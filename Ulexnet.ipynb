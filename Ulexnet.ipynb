{
  "nbformat": 4,
  "nbformat_minor": 0,
  "metadata": {
    "colab": {
      "name": "Ulexnet",
      "version": "0.3.2",
      "provenance": []
    },
    "kernelspec": {
      "name": "python3",
      "display_name": "Python 3"
    },
    "accelerator": "GPU"
  },
  "cells": [
    {
      "metadata": {
        "id": "cr1r8-iSLS_d",
        "colab_type": "code",
        "colab": {}
      },
      "cell_type": "code",
      "source": [
        "def conv2d_block(input_tensor, n_filters, kernel_size = 3, batchnorm = True,padding='valid'):\n",
        "    \"\"\"Function to add 2 convolutional layers with the parameters passed to it\"\"\"\n",
        "    # covolution layer\n",
        "    x = Conv2D(filters = n_filters, kernel_size = (kernel_size, kernel_size),\\\n",
        "              kernel_initializer = 'he_normal', padding = padding)(input_tensor)\n",
        "    if batchnorm:\n",
        "        x = BatchNormalization()(x)\n",
        "    x = Activation('relu')(x)\n",
        "    \n",
        "    return x"
      ],
      "execution_count": 0,
      "outputs": []
    },
    {
      "metadata": {
        "id": "fCtyvuGSOivN",
        "colab_type": "code",
        "colab": {}
      },
      "cell_type": "code",
      "source": [
        "def get_unet(input_img, n_filters = 16, dropout = 0.1, batchnorm = True):\n",
        "    # Contracting Path\n",
        "    c1 = conv2d_block(input_img, 96, kernel_size = 11, batchnorm = batchnorm)\n",
        "    p1 = MaxPooling2D((3, 3),strides=(4,4))(c1)\n",
        "    p1 = Dropout(dropout)(p1)\n",
        "    \n",
        "    c2 = conv2d_block(p1, 256, kernel_size = 5, batchnorm = batchnorm,padding='same')\n",
        "    p2 = MaxPooling2D((3, 3),stride=(2,2))(c2)\n",
        "    p2 = Dropout(dropout)(p2)\n",
        "    \n",
        "    c3 = conv2d_block(p2,384, kernel_size = 3, batchnorm = batchnorm,padding='same')\n",
        "    #p3 = MaxPooling2D((2, 2))(c3)\n",
        "    #p3 = Dropout(dropout)(p3)\n",
        "    \n",
        "    c4 = conv2d_block(c3, 256, kernel_size = 3, batchnorm = batchnorm,padding='same')\n",
        "    p4 = MaxPooling2D((3, 3),stride=(2,2))(c4)\n",
        "    p4 = Dropout(dropout)(p4)\n",
        "    \n",
        "    c5 = conv2d_block(p4, n_filters = 4096, kernel_size = p4.shape[2], batchnorm = batchnorm)\n",
        "    \n",
        "    # Expansive Path\n",
        "    u6 = Conv2DTranspose(256, (3, 3), strides = (2, 2), padding = 'same')(c5)\n",
        "    u6 = concatenate([u6, c4])\n",
        "    u6 = Dropout(dropout)(u6)\n",
        "    c6 = conv2d_block(u6, 256, kernel_size = 3, batchnorm = batchnorm,padding='same')\n",
        "    \n",
        "    u7 = Conv2DTranspose(384, (3, 3), strides = (2, 2), padding = 'same')(c6)\n",
        "    u7 = concatenate([u7, c3])\n",
        "    u7 = Dropout(dropout)(u7)\n",
        "    c7 = conv2d_block(u7, 384, kernel_size = 3, batchnorm = batchnorm,padding='same')\n",
        "    \n",
        "    u8 = Conv2DTranspose(256, (3, 3), strides = (2, 2), padding = 'same')(c7)\n",
        "    u8 = concatenate([u8, c2])\n",
        "    u8 = Dropout(dropout)(u8)\n",
        "    c8 = conv2d_block(u8, 256, kernel_size = 5, batchnorm = batchnorm,padding='same')\n",
        "    \n",
        "    u9 = Conv2DTranspose(96, (3, 3), strides = (2, 2), padding = 'same')(c8)\n",
        "    u9 = concatenate([u9, c1])\n",
        "    u9 = Dropout(dropout)(u9)\n",
        "    c9 = conv2d_block(u9, 96, kernel_size = 11, batchnorm = batchnorm)\n",
        "    \n",
        "    u10=Conv2DTranspose(3, (3, 3), strides = (2, 2), padding = 'same')(c9)\n",
        "    outputs = Conv2D(1, (1, 1), activation='sigmoid')(u10)\n",
        "    model = Model(inputs=[input_img], outputs=[outputs])\n",
        "return model"
      ],
      "execution_count": 0,
      "outputs": []
    }
  ]
}